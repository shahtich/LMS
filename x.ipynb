{
  "nbformat": 4,
  "nbformat_minor": 0,
  "metadata": {
    "colab": {
      "provenance": [],
      "authorship_tag": "ABX9TyN3NiFmz3GT+qAlZAJjwRyI",
      "include_colab_link": true
    },
    "kernelspec": {
      "name": "python3",
      "display_name": "Python 3"
    },
    "language_info": {
      "name": "python"
    }
  },
  "cells": [
    {
      "cell_type": "markdown",
      "metadata": {
        "id": "view-in-github",
        "colab_type": "text"
      },
      "source": [
        "<a href=\"https://colab.research.google.com/github/shahtich/LMS/blob/main/x.ipynb\" target=\"_parent\"><img src=\"https://colab.research.google.com/assets/colab-badge.svg\" alt=\"Open In Colab\"/></a>"
      ]
    },
    {
      "cell_type": "code",
      "execution_count": null,
      "metadata": {
        "id": "6obvnV34TSSl"
      },
      "outputs": [],
      "source": [
        "A=[1, 2, 1, 3, 4, 3242, 13, 24, 2, -4,]\n",
        "for x in A:\n",
        "    if x%2==0:\n",
        "        print(x)\n",
        "    else:\n",
        "        print(\"хуйня\")\n"
      ]
    },
    {
      "cell_type": "code",
      "source": [
        "def get_player_move(field, player_symbol)\n",
        "    move=input('ваше вот хождение: ' )\n",
        "    while True:\n",
        "        if field[move-1] in \"123456789\":\n",
        "            field[move-1] = player_symbol\n",
        "            return\n",
        "        else:\n",
        "            if not move.isdigit():\n",
        "                print('неверно')\n",
        "            elif len(move)!=1:\n",
        "                print('вы вылезли')\n",
        "            else:\n",
        "                print('сюда уже всё сходили')\n",
        "                move=input('ваше вот хождение: ' )"
      ],
      "metadata": {
        "id": "blb4bf5RZNi7"
      },
      "execution_count": null,
      "outputs": []
    },
    {
      "cell_type": "code",
      "source": [
        "def get_computer_move(field, computer_symbol)\n",
        "    move=str(rn.randint(1,9))\n",
        "    while True:\n",
        "        if field[move-1] in \"123456789\":\n",
        "            field[move-1] = player_symbol\n",
        "            return\n",
        "        else:\n",
        "            move=str(rn.randint(1,9))"
      ],
      "metadata": {
        "id": "M-a_U3esaT4t"
      },
      "execution_count": null,
      "outputs": []
    },
    {
      "cell_type": "code",
      "source": [
        "def get_winner(field, symbol):\n",
        "    if (field[0]==field[1]==field[2] == symbol\n",
        "    or field[3]==field[4]==field[5] == symbol\n",
        "    or field[7]==field[8]==field[9] == symbol\n",
        "    or field[0]==field[3]==field[6] == symbol\n",
        "    or field[1]==field[4]==field[7] == symbol\n",
        "    or field[2]==field[5]==field[8] == symbol\n",
        "    or field[0]==field[4]==field[8] == symbol\n",
        "    or field[2]==field[4]==field[6] == symbol):\n",
        "        return True\n",
        "    else:\n",
        "        return False\n",
        "\n",
        "def check_win(field, player_symbol, computer_symbol):\n",
        "    if get_winner(field, player_symbol):\n",
        "        print('Вы победаа')\n",
        "        return True\n",
        "    elif get_winner(field, computer_symbol):\n",
        "        print('Умник победил-обидно.')\n",
        "        return True\n",
        "    elif field.count('X')==5:\n",
        "        print('ничья')\n",
        "        return True\n",
        "    return False"
      ],
      "metadata": {
        "id": "AhSx2Rt3bo7o"
      },
      "execution_count": null,
      "outputs": []
    },
    {
      "cell_type": "code",
      "source": [
        "import random as rn\n",
        "field=[\" \"]*9\n",
        "symbols=['X', '0']\n",
        "player_symbol=symbols[rn.randint(0, 1)]\n",
        "if player_symbol=='X':\n",
        "    computer_symbol='0'\n",
        "else:\n",
        "    computer_symbol='X'\n",
        "    get_computer_move(field, computer_symbol)\n",
        "draw_board(field)\n",
        "while True:\n",
        "    get_player_move(field, player_symbol)\n",
        "    draw_board(filter)\n",
        "    if check_win"
      ],
      "metadata": {
        "id": "bf5iUVJhXy3v"
      },
      "execution_count": null,
      "outputs": []
    },
    {
      "cell_type": "code",
      "source": [
        "import random as rn\n",
        "\n",
        "def draw_board(field):\n",
        "    print(str(field[0]) + \"|\" +  str(field[1]) + \"|\" + str(field[2]))\n",
        "    print(str(field[3]) + \"|\" +  str(field[4]) + \"|\" + str(field[5]))\n",
        "    print(str(field[6]) + \"|\" +  str(field[7]) + \"|\" + str(field[8]))\n",
        "    print(\"\\n-----------------\\n\")\n",
        "\n",
        "def get_player_move(field, player_symbol):\n",
        "    move=input('Ваше вот хождение: ' )\n",
        "    while True:\n",
        "        if move.isdigit() and len(move)==1 and field[int(move)-1] in \"123456789\":\n",
        "            field[int(move)-1] = player_symbol\n",
        "            return\n",
        "        else:\n",
        "            if not move.isdigit():\n",
        "                print('неверно')\n",
        "            elif len(move)!=1:\n",
        "                print('Вы вылезли')\n",
        "            else:\n",
        "                print('Сюда уже всё сходили')\n",
        "                move=input('Ваше вот хождение: ' )\n",
        "\n",
        "def get_computer_move(field, computer_symbol):\n",
        "    move=rn.randint(1,9)\n",
        "    while True:\n",
        "        if field[move-1] in \"123456789\":\n",
        "            field[move-1] = computer_symbol\n",
        "            return\n",
        "        else:\n",
        "            move=rn.randint(1,9)\n",
        "\n",
        "def get_winner(field, symbol):\n",
        "    if (field[0]==field[1]==field[2] == symbol\n",
        "    or field[3]==field[4]==field[5] == symbol\n",
        "    or field[7]==field[8]==field[9] == symbol\n",
        "    or field[0]==field[3]==field[6] == symbol\n",
        "    or field[1]==field[4]==field[7] == symbol\n",
        "    or field[2]==field[5]==field[8] == symbol\n",
        "    or field[0]==field[4]==field[8] == symbol\n",
        "    or field[2]==field[4]==field[6] == symbol):\n",
        "        return True\n",
        "    else:\n",
        "        return False\n",
        "\n",
        "def check_win(field, player_symbol, computer_symbol):\n",
        "    if get_winner(field, player_symbol):\n",
        "        print('Вы победаа')\n",
        "        return True\n",
        "    elif get_winner(field, computer_symbol):\n",
        "        print('Умник победил - обидно.')\n",
        "        return True\n",
        "    elif field.count('X') == 5:\n",
        "        print('Ничья')\n",
        "        return True\n",
        "    return False\n",
        "def main():\n",
        "    print('Для хода укажите куда хотите походить')\n",
        "\n",
        "\n",
        "field=[\"1\", \"2\", \"3\", \"4\", \"5\", \"6\", \"7\", \"8\", \"9\"]*9\n",
        "symbols=['X', '0']\n",
        "player_symbol=symbols[rn.randint(0, 1)]\n",
        "print('Вы будите хождение совершать ' + player_symbol)\n",
        "if player_symbol=='X':\n",
        "    computer_symbol='0'\n",
        "else:\n",
        "    computer_symbol='X'\n",
        "    get_computer_move(field, computer_symbol)\n",
        "draw_board(field\n",
        "           )\n",
        "while True:\n",
        "    get_player_move(field, player_symbol)\n",
        "    if check_win(field, player_symbol, computer_symbol):\n",
        "        break\n",
        "\n",
        "    get_computer_move(field, computer_symbol)\n",
        "    draw_board(field)\n",
        "    if check_win(field, player_symbol, computer_symbol):\n",
        "        break"
      ],
      "metadata": {
        "id": "txwq_cyXfCKS",
        "outputId": "2c64080e-f1da-43c3-fcff-e754a282c056",
        "colab": {
          "base_uri": "https://localhost:8080/"
        }
      },
      "execution_count": 10,
      "outputs": [
        {
          "output_type": "stream",
          "name": "stdout",
          "text": [
            "Вы будите хождение совершать X\n",
            "1|2|3\n",
            "4|5|6\n",
            "7|8|9\n",
            "\n",
            "-----------------\n",
            "\n",
            "Ваше вот хождение: 1\n",
            "X|2|0\n",
            "4|5|6\n",
            "7|8|9\n",
            "\n",
            "-----------------\n",
            "\n",
            "Ваше вот хождение: 1\n",
            "Сюда уже всё сходили\n",
            "Ваше вот хождение: 5\n",
            "X|2|0\n",
            "4|X|6\n",
            "0|8|9\n",
            "\n",
            "-----------------\n",
            "\n",
            "Ваше вот хождение: 9\n",
            "Вы победаа\n"
          ]
        }
      ]
    }
  ]
}